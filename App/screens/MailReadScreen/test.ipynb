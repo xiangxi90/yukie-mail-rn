{
 "cells": [
  {
   "cell_type": "code",
   "execution_count": 5,
   "metadata": {},
   "outputs": [
    {
     "name": "stdout",
     "output_type": "stream",
     "text": [
      "./data\\欢迎使用你的新 Outlook.com 帐户.eml\n",
      "./data\\航旅纵横-个人乘机凭证.eml\n"
     ]
    }
   ],
   "source": [
    "import os  \n",
    "import sys  \n",
    "import email  \n",
    "import errno  \n",
    "import mimetypes  \n",
    "  \n",
    "PATH = '.' \n",
    "ITEM_PATH = PATH + \"/item\"  \n",
    "PATH_DATA = \"./data\"  \n",
    "  \n",
    "def item(eml_file,eml_name):     \n",
    "  \n",
    "    fp = open(eml_file)  \n",
    "    html_name = eml_name.split('.')  \n",
    "    html = html_name[0]+html_name[1]  \n",
    "    msg = email.message_from_file(fp)  \n",
    "    fp.close()  \n",
    "  \n",
    "    counter = 1  \n",
    "    for part in msg.walk():  \n",
    "  \n",
    "        if part.get_content_maintype() == 'multipart':  \n",
    "            continue  \n",
    "  \n",
    "        filename = part.get_filename()  \n",
    "        #print filename  \n",
    "        if not filename:  \n",
    "            ext = mimetypes.guess_extension(part.get_content_type())  \n",
    "            if not ext:  \n",
    "                ext = '.bin'  \n",
    "            filename = html+'part-%03d%s' % (counter, ext)  \n",
    "            counter += 1  \n",
    "            try:  \n",
    "                fp = open(os.path.join(ITEM_PATH, filename), 'wb')  \n",
    "                fp.write(part.get_payload(decode=True))  \n",
    "                fp.close()  \n",
    "            except IOError:  \n",
    "                print(\"io error\")\n",
    "                pass  \n",
    "            except TypeError:  \n",
    "                print(\"type error\")\n",
    "                pass  \n",
    "  \n",
    "def main():  \n",
    "    for root,dirs,files in os.walk(PATH_DATA):  \n",
    "        for _dir in dirs:  \n",
    "            if os.path.isdir(\"item\"):  \n",
    "                pass  \n",
    "            else:  \n",
    "                os.mkdir(\"_dir\\html\")  \n",
    "  \n",
    "        for _file in files:  \n",
    "            eml_file = os.path.join(root, _file)\n",
    "            print(eml_file)  \n",
    "            item(eml_file, _file)  \n",
    "  \n",
    "  \n",
    "if __name__ == '__main__':  \n",
    "    main()  "
   ]
  }
 ],
 "metadata": {
  "kernelspec": {
   "display_name": "base",
   "language": "python",
   "name": "python3"
  },
  "language_info": {
   "codemirror_mode": {
    "name": "ipython",
    "version": 3
   },
   "file_extension": ".py",
   "mimetype": "text/x-python",
   "name": "python",
   "nbconvert_exporter": "python",
   "pygments_lexer": "ipython3",
   "version": "3.9.13"
  },
  "orig_nbformat": 4
 },
 "nbformat": 4,
 "nbformat_minor": 2
}
